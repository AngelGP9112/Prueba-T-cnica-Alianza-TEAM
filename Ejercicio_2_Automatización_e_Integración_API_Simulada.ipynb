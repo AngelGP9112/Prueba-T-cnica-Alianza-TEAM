{
  "nbformat": 4,
  "nbformat_minor": 0,
  "metadata": {
    "colab": {
      "provenance": []
    },
    "kernelspec": {
      "name": "python3",
      "display_name": "Python 3"
    },
    "language_info": {
      "name": "python"
    }
  },
  "cells": [
    {
      "cell_type": "code",
      "execution_count": 60,
      "metadata": {
        "id": "8VkkiNhip_gC"
      },
      "outputs": [],
      "source": [
        "# Librerias python\n",
        "import pandas as pd\n",
        "import numpy as np\n",
        "import matplotlib.pyplot as pl\n",
        "import seaborn as sns\n",
        "\n",
        "\n",
        "# Importar la librería necesaria para dejar los registros en tablas\n",
        "from IPython.display import display"
      ]
    },
    {
      "cell_type": "code",
      "source": [
        "# conexion google drive\n",
        "from google.colab import drive\n",
        "drive.mount('/content/drive')"
      ],
      "metadata": {
        "colab": {
          "base_uri": "https://localhost:8080/"
        },
        "id": "ohSFc1_T5Tpm",
        "outputId": "b964e7c2-fe1c-4d22-8f70-fa90120cbe3b"
      },
      "execution_count": 61,
      "outputs": [
        {
          "output_type": "stream",
          "name": "stdout",
          "text": [
            "Drive already mounted at /content/drive; to attempt to forcibly remount, call drive.mount(\"/content/drive\", force_remount=True).\n"
          ]
        }
      ]
    },
    {
      "cell_type": "markdown",
      "source": [
        "# **PRoceso para archivo ficticio**"
      ],
      "metadata": {
        "id": "2OcX9HN_db28"
      }
    },
    {
      "cell_type": "code",
      "source": [
        "# Ruta del archivo CSV limpio del ejercicio anterior\n",
        "CSV_ORIGINAL_PATH = '/content/drive/MyDrive/Data_prueba/ventas_challenge_limpio.csv'\n",
        "\n",
        "# Ruta nueva\n",
        "CSV_NUEVO_PATH = '/content/drive/MyDrive/Data_prueba/ventas_challenge_limpio_2.csv'\n",
        "\n",
        "# --- 0.1: Cargar el DataFrame Limpio Original ---\n",
        "print(\"--- PASO 0.1: Cargando el archivo CSV original limpio ---\\n\")\n",
        "try:\n",
        "    df_original = pd.read_csv(CSV_ORIGINAL_PATH)\n",
        "    print(f\"'{CSV_ORIGINAL_PATH}' cargado exitosamente. Filas: {df_original.shape[0]}\")\n",
        "except FileNotFoundError:\n",
        "    print(f\"ERROR: No se encontró el archivo '{CSV_ORIGINAL_PATH}'. Asegúrate de que la ruta sea correcta.\")\n",
        "    exit() # Termina el script si el archivo no se encuentra\n",
        "\n",
        "# --- 0.2: Hacer una identificación de clientes Únicos y Preparar Datos Ficticios para Contactos ---\n",
        "print(\"\\n--- PASO 0.2: Identificando clientes únicos y preparando datos ficticios ---\\n\")\n",
        "\n",
        "# Por cliente unico generación email y nombre por cliente.\n",
        "# Esto evitará duplicados de contactos si un cliente aparece en varias ventas.\n",
        "clientes_unicos = df_original['id_cliente'].drop_duplicates().to_frame()\n",
        "print(f\"Clientes únicos encontrados: {clientes_unicos.shape[0]}\\n\")\n",
        "\n",
        "# Generación de nombres y correos electrónicos ficticios para cada id_cliente único\n",
        "# Uso del patrón para que algunos emails sean '@empresa.com' (existentes) y otros '@otra.com' (nuevos)\n",
        "# Esto simulará la lógica de la \"API ficticia\".\n",
        "def generar_datos_contacto_ficticios(row_index, id_cliente):\n",
        "    # Genera un nombre básico\n",
        "    nombre_contacto = f\"Cliente_{id_cliente[:5]}\" # Toma los primeros 5 caracteres del ID para el nombre\n",
        "\n",
        "    # Alterna entre dominios para simular contactos existentes y nuevos\n",
        "    if row_index % 2 == 0:\n",
        "        email_dominio = \"@empresa.com\" # Simula un contacto existente\n",
        "    else:\n",
        "        email_dominio = \"@otra.com\"    # Simula un contacto nuevo\n",
        "\n",
        "    # Crea un email pseudo-único usando parte del id_cliente\n",
        "    email_contacto = f\"contacto_{abs(hash(id_cliente)) % 10000}{email_dominio}\"\n",
        "    return nombre_contacto, email_contacto\n",
        "\n",
        "# Aplicar la función para generar nombre y email para cada cliente único\n",
        "# Usamos .apply y pasamos el índice de la fila para la lógica del dominio\n",
        "clientes_unicos[['nombre_contacto', 'email_contacto']] = \\\n",
        "    clientes_unicos.reset_index().apply(lambda row: generar_datos_contacto_ficticios(row.name, row['id_cliente']), axis=1, result_type='expand')\n",
        "\n",
        "# Eliminar la columna 'index' temporal if it was created with reset_index()\n",
        "if 'index' in clientes_unicos.columns:\n",
        "    clientes_unicos = clientes_unicos.drop(columns=['index'])\n",
        "\n",
        "print(\"Primeros 5 contactos ficticios generados:\\n\")\n",
        "print(clientes_unicos.head())\n",
        "\n",
        "# --- 0.3: Unir los nuevos campos de contacto al DataFrame original ---\n",
        "print(\"\\n--- PASO 0.3: Uniendo los nuevos campos al DataFrame de ventas ---\\n\")\n",
        "\n",
        "# Unir (merge) los correos y nombres de contacto al DataFrame original de ventas\n",
        "# Esto asegurará que cada fila de venta tenga el email y nombre de su cliente asociado.\n",
        "df_preparado = pd.merge(df_original, clientes_unicos[['id_cliente', 'nombre_contacto', 'email_contacto']],\n",
        "                        on='id_cliente', how='left')\n",
        "\n",
        "print(\"Verificando las nuevas columnas en el DataFrame preparado:\\n\")\n",
        "print(df_preparado[['id_cliente', 'nombre_contacto', 'email_contacto']].head())\n",
        "print(f\"\\nFilas en el DataFrame preparado: {df_preparado.shape[0]}\")\n",
        "\n",
        "# --- 0.4: Guardar el nuevo DataFrame preparado en `ventas_challenge_limpio_2.csv` ---\n",
        "print(f\"\\n--- PASO 0.4: Guardando el DataFrame preparado como '{CSV_NUEVO_PATH}' ---\\n\")\n",
        "\n",
        "df_preparado.to_csv(CSV_NUEVO_PATH, index=False, decimal='.', sep=',') # Usamos el mismo formato de decimal/separador\n",
        "\n",
        "print(f\"'{CSV_NUEVO_PATH}' guardado exitosamente. Ahora se puede usar este archivo para el Ejercicio 2.\")"
      ],
      "metadata": {
        "colab": {
          "base_uri": "https://localhost:8080/"
        },
        "id": "lJ-oLun55Vko",
        "outputId": "757f7fae-1de8-4e26-c0bf-5f2d3982b9ec"
      },
      "execution_count": 62,
      "outputs": [
        {
          "output_type": "stream",
          "name": "stdout",
          "text": [
            "--- PASO 0.1: Cargando el archivo CSV original limpio ---\n",
            "\n",
            "'/content/drive/MyDrive/Data_prueba/ventas_challenge_limpio.csv' cargado exitosamente. Filas: 800\n",
            "\n",
            "--- PASO 0.2: Identificando clientes únicos y preparando datos ficticios ---\n",
            "\n",
            "Clientes únicos encontrados: 200\n",
            "\n",
            "Primeros 5 contactos ficticios generados:\n",
            "\n",
            "  id_cliente nombre_contacto             email_contacto\n",
            "0      C0094   Cliente_C0094  contacto_2678@empresa.com\n",
            "1      C0167   Cliente_C0167     contacto_8056@otra.com\n",
            "2      C0029   Cliente_C0029  contacto_8612@empresa.com\n",
            "3      C0052   Cliente_C0052     contacto_3517@otra.com\n",
            "4      C0070   Cliente_C0070  contacto_5563@empresa.com\n",
            "\n",
            "--- PASO 0.3: Uniendo los nuevos campos al DataFrame de ventas ---\n",
            "\n",
            "Verificando las nuevas columnas en el DataFrame preparado:\n",
            "\n",
            "  id_cliente nombre_contacto             email_contacto\n",
            "0      C0094   Cliente_C0094  contacto_2678@empresa.com\n",
            "1      C0167   Cliente_C0167     contacto_8056@otra.com\n",
            "2      C0029   Cliente_C0029  contacto_8612@empresa.com\n",
            "3      C0052   Cliente_C0052     contacto_3517@otra.com\n",
            "4      C0070   Cliente_C0070  contacto_5563@empresa.com\n",
            "\n",
            "Filas en el DataFrame preparado: 800\n",
            "\n",
            "--- PASO 0.4: Guardando el DataFrame preparado como '/content/drive/MyDrive/Data_prueba/ventas_challenge_limpio_2.csv' ---\n",
            "\n",
            "'/content/drive/MyDrive/Data_prueba/ventas_challenge_limpio_2.csv' guardado exitosamente. Ahora se puede usar este archivo para el Ejercicio 2.\n"
          ]
        }
      ]
    },
    {
      "cell_type": "markdown",
      "source": [
        "#**Configuración Inicial y Carga de Datos**\n",
        "\n",
        "configuración de las rutas de los archivos y carga CSV recién creado."
      ],
      "metadata": {
        "id": "chGKi8e4bTJD"
      }
    },
    {
      "cell_type": "code",
      "source": [
        "\n",
        "import json # Necesario para trabajar con formato JSON\n",
        "\n",
        "# Ruta del archivo CSV preparado para este ejercicio\n",
        "CSV_PARA_EJERCICIO2_PATH = '/content/drive/MyDrive/Data_prueba/ventas_challenge_limpio_2.csv'\n",
        "# Ruta donde se guardará el archivo JSON con los nuevos contactos\n",
        "JSON_NUEVOS_CONTACTOS_PATH = '/content/drive/MyDrive/Data_prueba/nuevos_contactos_a_crear.json'\n",
        "# Ruta donde se guardará el archivo Excel de resumen\n",
        "EXCEL_RESUMEN_PATH = '/content/drive/MyDrive/Data_prueba/resumen_integracion_contactos.xlsx'\n",
        "\n",
        "# Definición campos para un contacto.\n",
        "# Si alguno de estos está vacío, el contacto se considerará \"incompleto\".\n",
        "CAMPOS_OBLIGATORIOS_CONTACTO = ['id_cliente', 'nombre_contacto', 'email_contacto']"
      ],
      "metadata": {
        "id": "p3suz6_1IA8T"
      },
      "execution_count": 63,
      "outputs": []
    },
    {
      "cell_type": "code",
      "source": [
        "print(\"--- INCIO EJERCICIO 2: Inicio de la Simulación de Integración API ---\")\n",
        "print(\"\\n--- PASO 1: Configuración y Carga de Datos ---\\n\")\n",
        "\n",
        "# 1.1: Cargar el DataFrame 'ventas_challenge_limpio_2.csv'\n",
        "try:\n",
        "    df_ejercicio2 = pd.read_csv(CSV_PARA_EJERCICIO2_PATH)\n",
        "    print(f\"'{CSV_PARA_EJERCICIO2_PATH}' cargado exitosamente. Filas: {df_ejercicio2.shape[0]}\")\n",
        "except FileNotFoundError:\n",
        "    print(f\"ERROR: No se encontró el archivo '{CSV_PARA_EJERCICIO2_PATH}'. Asegurarse de que la ruta sea correcta.\")\n",
        "    exit() # Si el archivo no está, no se podria continuar.\n",
        "\n",
        "# 1.2: Mostrar las primeras filas y tipos de datos para verificar que todo está Ok\n",
        "print(\"\\nPrimeras filas del DataFrame cargado (verificando 'id_cliente', 'nombre_contacto', 'email_contacto'):\\n\")\n",
        "print(df_ejercicio2[['id_cliente', 'nombre_contacto', 'email_contacto']].head())\n",
        "print(\"\\nTipos de datos de las columnas clave:\\n\")\n",
        "print(df_ejercicio2[['id_cliente', 'nombre_contacto', 'email_contacto']].dtypes)"
      ],
      "metadata": {
        "colab": {
          "base_uri": "https://localhost:8080/"
        },
        "id": "uBiqGJCXS0DG",
        "outputId": "a67cfe6b-08bb-47b7-d796-cb812d72702a"
      },
      "execution_count": 64,
      "outputs": [
        {
          "output_type": "stream",
          "name": "stdout",
          "text": [
            "--- INCIO EJERCICIO 2: Inicio de la Simulación de Integración API ---\n",
            "\n",
            "--- PASO 1: Configuración y Carga de Datos ---\n",
            "\n",
            "'/content/drive/MyDrive/Data_prueba/ventas_challenge_limpio_2.csv' cargado exitosamente. Filas: 800\n",
            "\n",
            "Primeras filas del DataFrame cargado (verificando 'id_cliente', 'nombre_contacto', 'email_contacto'):\n",
            "\n",
            "  id_cliente nombre_contacto             email_contacto\n",
            "0      C0094   Cliente_C0094  contacto_2678@empresa.com\n",
            "1      C0167   Cliente_C0167     contacto_8056@otra.com\n",
            "2      C0029   Cliente_C0029  contacto_8612@empresa.com\n",
            "3      C0052   Cliente_C0052     contacto_3517@otra.com\n",
            "4      C0070   Cliente_C0070  contacto_5563@empresa.com\n",
            "\n",
            "Tipos de datos de las columnas clave:\n",
            "\n",
            "id_cliente         object\n",
            "nombre_contacto    object\n",
            "email_contacto     object\n",
            "dtype: object\n"
          ]
        }
      ]
    },
    {
      "cell_type": "code",
      "source": [
        "print(\"\\n--- PASO 2: Definición de la 'API Ficticia' de Validación de Contactos---\\n\")\n",
        "\n",
        "# Función ficticia para simular la validación de un contacto con una API externa\n",
        "# Esta función simulará si un email ya existe en el CRM (True) o si es un nuevo contacto (False)\n",
        "def simular_api_validar_contacto(email):\n",
        "    \"\"\"\n",
        "    Simula una llamada a una API para validar si un email de contacto existe.\n",
        "    Retorna True si el email contiene '@empresa.com', simulando un contacto existente.\n",
        "    Retorna False si el email contiene '@otra.com' o es None/NaN, simulando un nuevo contacto.\n",
        "    \"\"\"\n",
        "    if pd.isna(email): # Casos donde el email pueda ser NaN\n",
        "        return False\n",
        "    return '@empresa.com' in email\n",
        "\n",
        "print(\"Función 'simular_api_validar_contacto' definida.\")"
      ],
      "metadata": {
        "colab": {
          "base_uri": "https://localhost:8080/"
        },
        "id": "fzzmUbp7Jwwc",
        "outputId": "839adccc-eca2-4b9b-b8c9-9ea3111391fa"
      },
      "execution_count": 65,
      "outputs": [
        {
          "output_type": "stream",
          "name": "stdout",
          "text": [
            "\n",
            "--- PASO 2: Definición de la 'API Ficticia' de Validación de Contactos---\n",
            "\n",
            "Función 'simular_api_validar_contacto' definida.\n"
          ]
        }
      ]
    },
    {
      "cell_type": "code",
      "source": [
        "#Simulación de Validación y Clasificación de Contactos\n",
        "#Se requirio usar la API ficticia para determinar qué clientes (del archivo CSV) son \"contactos existentes\" y cuáles son \"nuevos contactos\".\n",
        "\n",
        "print(\"\\n--- PASO 3: Simulación de Validación y Clasificación de Contactos (Parte A) ---\\n\")\n",
        "\n",
        "# 3.1: Obtener la lista de CONTACTOS ÚNICOS para procesar\n",
        "\n",
        "contactos_para_validar = df_ejercicio2[['id_cliente', 'nombre_contacto', 'email_contacto']].drop_duplicates().copy()\n",
        "\n",
        "print(f\"Se identificaron {contactos_para_validar.shape[0]} contactos únicos para validar.\\n\")\n",
        "\n",
        "# 3.2: Aplicar la simulación de la API a cada contacto único\n",
        "print(\"Aplicando la función de validación de API ficticia a cada email...\")\n",
        "contactos_para_validar['es_existente_en_crm'] = contactos_para_validar['email_contacto'].apply(simular_api_validar_contacto)\n",
        "\n",
        "# 3.3: Clasificar los contactos basándose en el resultado de la validación\n",
        "contactos_existentes_df = contactos_para_validar[contactos_para_validar['es_existente_en_crm'] == True]\n",
        "nuevos_contactos_a_crear_df = contactos_para_validar[contactos_para_validar['es_existente_en_crm'] == False]\n",
        "\n",
        "# 3.4: Contar los resultados para el resumen\n",
        "total_contactos_existentes = len(contactos_existentes_df)\n",
        "total_nuevos_contactos = len(nuevos_contactos_a_crear_df)\n",
        "\n",
        "print(f\"\\nResultados de la Validación:\")\n",
        "print(f\"   - Total de Contactos Únicos procesados: {len(contactos_para_validar)}\")\n",
        "print(f\"   - Contactos simulados como EXISTENTES en el CRM: {total_contactos_existentes}\")\n",
        "print(f\"   - Contactos simulados como NUEVOS para crear: {total_nuevos_contactos}\")\n",
        "\n",
        "print(\"\\nPrimeros 5 contactos que YA EXISTEN en el CRM (simulado):\\n\")\n",
        "print(contactos_existentes_df.head())\n",
        "print(\"\\nPrimeros 5 contactos NUEVOS para crear en el CRM (simulado):\\n\")\n",
        "print(nuevos_contactos_a_crear_df.head())"
      ],
      "metadata": {
        "colab": {
          "base_uri": "https://localhost:8080/"
        },
        "id": "YeJOmhDIIuAQ",
        "outputId": "9ffa96db-a671-43eb-db96-bbf87db70d3c"
      },
      "execution_count": 66,
      "outputs": [
        {
          "output_type": "stream",
          "name": "stdout",
          "text": [
            "\n",
            "--- PASO 3: Simulación de Validación y Clasificación de Contactos (Parte A) ---\n",
            "\n",
            "Se identificaron 200 contactos únicos para validar.\n",
            "\n",
            "Aplicando la función de validación de API ficticia a cada email...\n",
            "\n",
            "Resultados de la Validación:\n",
            "   - Total de Contactos Únicos procesados: 200\n",
            "   - Contactos simulados como EXISTENTES en el CRM: 68\n",
            "   - Contactos simulados como NUEVOS para crear: 132\n",
            "\n",
            "Primeros 5 contactos que YA EXISTEN en el CRM (simulado):\n",
            "\n",
            "  id_cliente nombre_contacto             email_contacto  es_existente_en_crm\n",
            "0      C0094   Cliente_C0094  contacto_2678@empresa.com                 True\n",
            "2      C0029   Cliente_C0029  contacto_8612@empresa.com                 True\n",
            "4      C0070   Cliente_C0070  contacto_5563@empresa.com                 True\n",
            "6      C0038   Cliente_C0038  contacto_3406@empresa.com                 True\n",
            "8      C0026   Cliente_C0026  contacto_5208@empresa.com                 True\n",
            "\n",
            "Primeros 5 contactos NUEVOS para crear en el CRM (simulado):\n",
            "\n",
            "  id_cliente nombre_contacto          email_contacto  es_existente_en_crm\n",
            "1      C0167   Cliente_C0167  contacto_8056@otra.com                False\n",
            "3      C0052   Cliente_C0052  contacto_3517@otra.com                False\n",
            "5      C0189   Cliente_C0189  contacto_6691@otra.com                False\n",
            "7      C0010   Cliente_C0010   contacto_389@otra.com                False\n",
            "9      C0045   Cliente_C0045  contacto_7860@otra.com                False\n"
          ]
        }
      ]
    },
    {
      "cell_type": "markdown",
      "source": [
        "# **Generación JSON con los Nuevos Contactos \"a Crear\" (Parte B del Ejercicio)**\n",
        "\n",
        "Crear un archivo en formato JSON que contenga solo los contactos que fueron clasificados como \"nuevos\" y que, teóricamente, serían enviados a la API del CRM para su creación."
      ],
      "metadata": {
        "id": "Kqcv1o9RKCQz"
      }
    },
    {
      "cell_type": "code",
      "source": [
        "print(\"\\n--- PASO 4: Generando JSON con Nuevos Contactos---\\n\")\n",
        "\n",
        "# 4.1: Preparación de la lista de diccionarios para el JSON\n",
        "# Cada diccionario representará un contacto con sus propiedades clave.\n",
        "\n",
        "lista_json_nuevos_contactos = []\n",
        "for index, row in nuevos_contactos_a_crear_df.iterrows():\n",
        "    # Solo añadimos al JSON si los campos principales no son nulos\n",
        "    if pd.notna(row['id_cliente']) and pd.notna(row['email_contacto']):\n",
        "        lista_json_nuevos_contactos.append({\n",
        "            \"id_cliente\": row['id_cliente'],\n",
        "            \"nombre\": row['nombre_contacto'],\n",
        "            \"email\": row['email_contacto'],\n",
        "             })\n",
        "\n",
        "# 4.2: Guardar la lista de diccionarios como un archivo JSON\n",
        "try:\n",
        "    with open(JSON_NUEVOS_CONTACTOS_PATH, 'w', encoding='utf-8') as f:\n",
        "        json.dump(lista_json_nuevos_contactos, f, ensure_ascii=False, indent=4)\n",
        "    print(f\"JSON con {len(lista_json_nuevos_contactos)} nuevos contactos guardado en: {JSON_NUEVOS_CONTACTOS_PATH}\")\n",
        "except Exception as e:\n",
        "    print(f\"ERROR: No se pudo guardar el archivo JSON. Detalles: {e}\")"
      ],
      "metadata": {
        "colab": {
          "base_uri": "https://localhost:8080/"
        },
        "id": "Og1w8phvKFxT",
        "outputId": "7656983a-ff5f-4cc6-c8f2-e82a8df7036d"
      },
      "execution_count": 67,
      "outputs": [
        {
          "output_type": "stream",
          "name": "stdout",
          "text": [
            "\n",
            "--- PASO 4: Generando JSON con Nuevos Contactos---\n",
            "\n",
            "JSON con 58 nuevos contactos guardado en: /content/drive/MyDrive/Data_prueba/nuevos_contactos_a_crear.json\n"
          ]
        }
      ]
    },
    {
      "cell_type": "markdown",
      "source": [
        "#**Creación Archivo Excel de Resumen (Parte C del Ejercicio)**\n",
        "\n",
        "Generar un archivo Excel que consolide las métricas clave de este proceso de integración: total de nuevos contactos, contactos existentes y contactos con datos incompletos."
      ],
      "metadata": {
        "id": "sU4hQQawKO9Z"
      }
    },
    {
      "cell_type": "code",
      "source": [
        "print(\"\\n--- PASO 5: Archivo Excel ---\\n-\")\n",
        "\n",
        "# 5.1: Identificación contactos con datos incompletos\n",
        "# Uso de la lista de CAMPOS_OBLIGATORIOS_CONTACTO definida al inicio.\n",
        "# Busqueda de nulos en *cualquiera* de estos campos dentro de contactos_para_validar.\n",
        "contactos_con_datos_incompletos_df = contactos_para_validar[\n",
        "    contactos_para_validar[CAMPOS_OBLIGATORIOS_CONTACTO].isnull().any(axis=1)\n",
        "].copy()\n",
        "\n",
        "total_contactos_incompletos = len(contactos_con_datos_incompletos_df)\n",
        "\n",
        "print(f\"Total de contactos con datos incompletos (basado en {', '.join(CAMPOS_OBLIGATORIOS_CONTACTO)}): {total_contactos_incompletos}\")\n",
        "\n",
        "# 5.2: Creación el DataFrame de resumen con las métricas clave\n",
        "resumen_data = {\n",
        "    'Métrica de Integración': [\n",
        "        'Total de Contactos Únicos Procesados',\n",
        "        'Contactos Simulados como Existentes en CRM',\n",
        "        'Contactos Simulados como NUEVOS - Creados',\n",
        "        'Contactos Identificados con Datos Incompletos'\n",
        "    ],\n",
        "    'Valor': [\n",
        "        len(contactos_para_validar),\n",
        "        total_contactos_existentes,\n",
        "        total_nuevos_contactos,\n",
        "        total_contactos_incompletos\n",
        "    ]\n",
        "}\n",
        "df_resumen_final = pd.DataFrame(resumen_data)\n",
        "\n",
        "print(\"\\nDataFrame de Resumen Final:\")\n",
        "print(df_resumen_final)\n",
        "\n",
        "# 5.3: Almacenamiento el DataFrame de resumen en un archivo Excel\n",
        "try:\n",
        "    df_resumen_final.to_excel(EXCEL_RESUMEN_PATH, index=False)\n",
        "    print(f\"\\nResumen de la integración guardado exitosamente en: {EXCEL_RESUMEN_PATH}\")\n",
        "except Exception as e:\n",
        "    print(f\"ERROR: No se pudo guardar el archivo Excel de resumen. Detalles: {e}\")\n",
        "\n",
        "print(\"\\n---Proceso de simulación de integración API COMPLETO ---\")"
      ],
      "metadata": {
        "colab": {
          "base_uri": "https://localhost:8080/"
        },
        "id": "ovF6Z4kkKPsk",
        "outputId": "1d33b918-eff7-4fb3-998d-10334f1caede"
      },
      "execution_count": 68,
      "outputs": [
        {
          "output_type": "stream",
          "name": "stdout",
          "text": [
            "\n",
            "--- PASO 5: Archivo Excel ---\n",
            "-\n",
            "Total de contactos con datos incompletos (basado en id_cliente, nombre_contacto, email_contacto): 74\n",
            "\n",
            "DataFrame de Resumen Final:\n",
            "                          Métrica de Integración  Valor\n",
            "0           Total de Contactos Únicos Procesados    200\n",
            "1     Contactos Simulados como Existentes en CRM     68\n",
            "2      Contactos Simulados como NUEVOS - Creados    132\n",
            "3  Contactos Identificados con Datos Incompletos     74\n",
            "\n",
            "Resumen de la integración guardado exitosamente en: /content/drive/MyDrive/Data_prueba/resumen_integracion_contactos.xlsx\n",
            "\n",
            "---Proceso de simulación de integración API COMPLETO ---\n"
          ]
        }
      ]
    }
  ]
}